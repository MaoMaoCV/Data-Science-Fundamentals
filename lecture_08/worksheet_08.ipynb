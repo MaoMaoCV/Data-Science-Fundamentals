{
 "cells": [
  {
   "attachments": {},
   "cell_type": "markdown",
   "metadata": {},
   "source": [
    "# Worksheet 08\n",
    "\n",
    "Name: Mao Mao\n",
    "UID: U02043894\n",
    "\n",
    "### Topics\n",
    "\n",
    "- Soft Clustering\n",
    "- Clustering Aggregation\n",
    "\n",
    "### Probability Review\n",
    "\n",
    "Read through [the following](https://medium.com/@gallettilance/overview-of-probability-3272b72c82c8)\n",
    "\n",
    "### Soft Clustering\n",
    "\n",
    "We generate 10 data points that come from a normal distribution with mean 5 and variance 1."
   ]
  },
  {
   "cell_type": "code",
   "execution_count": 10,
   "metadata": {
    "ExecuteTime": {
     "end_time": "2023-10-11T22:31:32.086350300Z",
     "start_time": "2023-10-11T22:31:32.014677300Z"
    }
   },
   "outputs": [
    {
     "name": "stdout",
     "output_type": "stream",
     "text": [
      "[5.3872874911119375, 5.602240697211914, 5.606244552519783, 6.960422588952641, 3.918946670418345, 5.037117001411848, 4.390436145995281, 5.348037469330129, 4.132983533857102, 7.467672043383739]\n"
     ]
    }
   ],
   "source": [
    "import random\n",
    "import numpy as np\n",
    "from sklearn.cluster import KMeans\n",
    "\n",
    "mean = 5\n",
    "stdev = 1\n",
    "\n",
    "s1 = np.random.normal(mean, stdev, 10).tolist()\n",
    "print(s1)"
   ]
  },
  {
   "cell_type": "markdown",
   "metadata": {},
   "source": [
    "a) Generate 10 more data points, this time coming from a normal distribution with mean 8 and variance 1."
   ]
  },
  {
   "cell_type": "code",
   "execution_count": 11,
   "metadata": {
    "ExecuteTime": {
     "end_time": "2023-10-11T22:31:32.185578Z",
     "start_time": "2023-10-11T22:31:32.020493400Z"
    }
   },
   "outputs": [
    {
     "name": "stdout",
     "output_type": "stream",
     "text": [
      "[8.683511913428664, 6.834150183375982, 7.246826622706217, 9.228791689664456, 10.010227996795855, 8.300576559880598, 8.190242726889393, 7.998371841866975, 8.650724230450386, 7.635000050806957]\n"
     ]
    }
   ],
   "source": [
    "s2 = np.random.normal(8, 1, 10).tolist()\n",
    "print(s2)"
   ]
  },
  {
   "cell_type": "markdown",
   "metadata": {},
   "source": [
    "b) Flip a fair coin 10 times. If the coin lands on H, then pick the last data point of `s1` and remove it from `s1`, if T then pick the last data point from `s2` and remove it from `s2`. Add these 10 points to a list called `data`."
   ]
  },
  {
   "cell_type": "code",
   "execution_count": 12,
   "metadata": {
    "ExecuteTime": {
     "end_time": "2023-10-11T22:31:32.187591300Z",
     "start_time": "2023-10-11T22:31:32.038509900Z"
    }
   },
   "outputs": [
    {
     "name": "stdout",
     "output_type": "stream",
     "text": [
      "[7.467672043383739, 4.132983533857102, 5.348037469330129, 4.390436145995281, 5.037117001411848, 3.918946670418345, 7.635000050806957, 6.960422588952641, 8.650724230450386, 7.998371841866975]\n"
     ]
    }
   ],
   "source": [
    "data = []\n",
    "for i in range(10):\n",
    "    # flip coin\n",
    "    coin_output = random.choice([0, 1])\n",
    "    if coin_output == 0:\n",
    "        p1 = s1.pop()\n",
    "        data.append(p1)\n",
    "    else:\n",
    "        p2 = s2.pop()\n",
    "        data.append(p2)\n",
    "print(data)"
   ]
  },
  {
   "cell_type": "markdown",
   "metadata": {},
   "source": [
    "c) This `data` is a Gaussian Mixture Distribution with 2 mixture components. Over the next few questions we will walk through the GMM algorithm to see if we can uncover the parameters we used to generate this data. First, please list all these parameters of the GMM that created `data` and the values we know they have."
   ]
  },
  {
   "cell_type": "markdown",
   "metadata": {},
   "source": [
    "Mean and Variance, and Probability of x coming from specie i"
   ]
  },
  {
   "cell_type": "markdown",
   "metadata": {},
   "source": [
    "d) Let's assume there are two mixture components (note: we could plot the data and make the observation that there are two clusters). The EM algorithm asks us to start with a random `mean_j`, `variance_j`, `P(S_j)` for each component j. One method we could use to find sensible values for these is to apply K means with k=2 here.\n",
    "\n",
    "1. the centroids would be the estimates of the `mean_j`\n",
    "2. the intra-cluster variance could be the estimate of `variance_j`\n",
    "3. the proportion of points in each cluster could be the estimate of `P(S_j)`\n",
    "\n",
    "Go through this process and list the parameter estimates it gives. Are they close or far from the true values?"
   ]
  },
  {
   "cell_type": "code",
   "execution_count": 13,
   "metadata": {
    "collapsed": false
   },
   "outputs": [],
   "source": [
    "kmeans = KMeans(2, init='k-means++', n_init='auto').fit(X=np.array(data).reshape(-1, 1))"
   ]
  },
  {
   "cell_type": "code",
   "execution_count": 14,
   "metadata": {
    "ExecuteTime": {
     "end_time": "2023-10-12T00:33:06.075027600Z",
     "start_time": "2023-10-12T00:33:06.025218300Z"
    }
   },
   "outputs": [
    {
     "name": "stdout",
     "output_type": "stream",
     "text": [
      "[7.467672043383739, 7.635000050806957, 6.960422588952641, 8.650724230450386, 7.998371841866975]\n",
      "[4.132983533857102, 5.348037469330129, 4.390436145995281, 5.037117001411848, 3.918946670418345]\n",
      "P(S_1) = 0.5,  P(S_2) = 0.5\n",
      "mean_1 = 7.74243815109214,  mean_2 = 4.565504164202541\n",
      "var_1 = 0.3178146709592148,  var_2 = 0.2941073082592907\n",
      "\n"
     ]
    }
   ],
   "source": [
    "s1 = [x[0] for x in filter(lambda x: x[1] == 0, zip(data, kmeans.labels_))]\n",
    "print(s1)\n",
    "s2 = [x[0] for x in filter(lambda x: x[1] == 1, zip(data, kmeans.labels_))]\n",
    "print(s2)\n",
    "\n",
    "prob_s = [len(s1) / (len(s1) + len(s2)), len(s2) / (len(s1) + len(s2))]\n",
    "mean = [sum(s1) / len(s1), sum(s2) / len(s2)]\n",
    "var = [sum(map(lambda x: (x - mean[0]) ** 2, s1)) / len(s1), sum(map(lambda x: (x - mean[1]) ** 2, s2)) / len(s2)]\n",
    "\n",
    "print(\"P(S_1) = \" + str(prob_s[0]) + \",  P(S_2) = \" + str(prob_s[1]))\n",
    "print(\"mean_1 = \" + str(mean[0]) + \",  mean_2 = \" + str(mean[1]))\n",
    "print(\"var_1 = \" + str(var[0]) + \",  var_2 = \" + str(var[1]))\n",
    "print(\"\")"
   ]
  },
  {
   "cell_type": "markdown",
   "metadata": {},
   "source": [
    "mean_1 = 7.74243815109214,  \n",
    "mean_2 = 4.565504164202541, \n",
    "var_1 = 0.3178146709592148,  \n",
    "var_2 = 0.2941073082592907\n",
    "\n",
    "assigned mean_1 to c2, and mean_2 to c1.\n",
    "mean_1 is 8, var is 1. mean_2 is 5, var is 1. The variance for mean_1 differs, but the mean is pretty close. Since we are taking 4 data points from c1 and 6 data points from c2, the predicted probability becomes the true value ."
   ]
  },
  {
   "cell_type": "markdown",
   "metadata": {},
   "source": [
    "e) For each data point, compute `P(S_j | X_i)`. Comment on which cluster you think each point belongs to based on the estimated probabilities. How does that compare to the truth?"
   ]
  },
  {
   "cell_type": "code",
   "execution_count": 15,
   "metadata": {
    "ExecuteTime": {
     "end_time": "2023-10-11T22:31:32.190592100Z",
     "start_time": "2023-10-11T22:31:32.066581Z"
    }
   },
   "outputs": [
    {
     "name": "stdout",
     "output_type": "stream",
     "text": [
      "point =  7.467672043383739\n",
      "probability of observing that point if it came from cluster 0 =  0.863835015442807\n",
      "probability of observing that point if it came from cluster 1 =  9.735881688552135e-22\n",
      "point =  4.132983533857102\n",
      "probability of observing that point if it came from cluster 0 =  1.230982855153613e-28\n",
      "probability of observing that point if it came from cluster 1 =  0.46001681088378804\n",
      "point =  5.348037469330129\n",
      "probability of observing that point if it came from cluster 0 =  5.934206308094679e-13\n",
      "probability of observing that point if it came from cluster 1 =  0.03936775505461805\n",
      "point =  4.390436145995281\n",
      "probability of observing that point if it came from cluster 0 =  8.775967695331607e-25\n",
      "probability of observing that point if it came from cluster 1 =  1.1362228460849801\n",
      "point =  5.037117001411848\n",
      "probability of observing that point if it came from cluster 0 =  2.3150322706195873e-16\n",
      "probability of observing that point if it came from cluster 1 =  0.37501163106216384\n",
      "point =  3.918946670418345\n",
      "probability of observing that point if it came from cluster 0 =  4.677530502736532e-32\n",
      "probability of observing that point if it came from cluster 1 =  0.12105027352983018\n",
      "point =  7.635000050806957\n",
      "probability of observing that point if it came from cluster 0 =  1.1855520397334978\n",
      "probability of observing that point if it came from cluster 1 =  3.0193832374335344e-24\n",
      "point =  6.960422588952641\n",
      "probability of observing that point if it came from cluster 0 =  0.0608140815829122\n",
      "probability of observing that point if it came from cluster 1 =  5.4159677595457715e-15\n",
      "point =  8.650724230450386\n",
      "probability of observing that point if it came from cluster 0 =  0.021142297368454827\n",
      "probability of observing that point if it came from cluster 1 =  1.7230759405962535e-42\n",
      "point =  7.998371841866975\n",
      "probability of observing that point if it came from cluster 0 =  0.9076472440525869\n",
      "probability of observing that point if it came from cluster 1 =  3.535167230802394e-30\n",
      "7.467672043383739\n",
      "Probability of coming from S_1 = 1.0\n",
      "Probability of coming from S_2 = 1.1270533741401376e-21\n",
      "\n",
      "4.132983533857102\n",
      "Probability of coming from S_1 = 2.675951891385532e-28\n",
      "Probability of coming from S_2 = 1.0\n",
      "\n",
      "5.348037469330129\n",
      "Probability of coming from S_1 = 1.5073773700766596e-11\n",
      "Probability of coming from S_2 = 0.9999999999849262\n",
      "\n",
      "4.390436145995281\n",
      "Probability of coming from S_1 = 7.723808516586751e-25\n",
      "Probability of coming from S_2 = 1.0\n",
      "\n",
      "5.037117001411848\n",
      "Probability of coming from S_1 = 6.173227918458439e-16\n",
      "Probability of coming from S_2 = 0.9999999999999994\n",
      "\n",
      "3.918946670418345\n",
      "Probability of coming from S_1 = 3.8641222083516047e-31\n",
      "Probability of coming from S_2 = 1.0\n",
      "\n",
      "7.635000050806957\n",
      "Probability of coming from S_1 = 1.0\n",
      "Probability of coming from S_2 = 2.5468162815630315e-24\n",
      "\n",
      "6.960422588952641\n",
      "Probability of coming from S_1 = 0.9999999999999108\n",
      "Probability of coming from S_2 = 8.905779086972335e-14\n",
      "\n",
      "8.650724230450386\n",
      "Probability of coming from S_1 = 1.0\n",
      "Probability of coming from S_2 = 8.149899278056477e-41\n",
      "\n",
      "7.998371841866975\n",
      "Probability of coming from S_1 = 1.0\n",
      "Probability of coming from S_2 = 3.894869128911908e-30\n",
      "\n"
     ]
    }
   ],
   "source": [
    "from scipy.stats import norm\n",
    "\n",
    "prob_s0_x = []  # P(S_0 | X_i)\n",
    "prob_s1_x = []  # P(S_1 | X_i)\n",
    "prob_x = []  # P(X_i)\n",
    "\n",
    "k = 2\n",
    "\n",
    "for p in data:\n",
    "    print(\"point = \", p)\n",
    "    pdf_i = []\n",
    "\n",
    "    for j in range(k):\n",
    "        # P(X_i | S_j)\n",
    "        pdf_i.append(norm.pdf(p, mean[j], var[j]))\n",
    "        print(\"probability of observing that point if it came from cluster \" + str(j) + \" = \", pdf_i[j])\n",
    "        # P(S_j) already computed\n",
    "        # prob_s[j]\n",
    "\n",
    "    # P(X_i) = P(S_0)P(X_i | S_0) + P(S_1)P(X_i | S_1)\n",
    "    prob_x = prob_s[0] * pdf_i[0] + prob_s[1] * pdf_i[1]\n",
    "\n",
    "    # P(S_j | X_i) = P(X_i | S_j)P(S_j) / P(X_i)\n",
    "    prob_s0_x.append((pdf_i[0] * prob_s[0]) / prob_x)\n",
    "    prob_s1_x.append((pdf_i[1] * prob_s[1]) / prob_x)\n",
    "\n",
    "probs = zip(data, prob_s0_x, prob_s1_x)\n",
    "for p in probs:\n",
    "    print(p[0])\n",
    "    print(\"Probability of coming from S_1 = \" + str(p[1]))\n",
    "    print(\"Probability of coming from S_2 = \" + str(p[2]))\n",
    "    print()\n"
   ]
  },
  {
   "cell_type": "markdown",
   "metadata": {},
   "source": [
    "f) Having computed `P(S_j | X_i)`, update the estimates of `mean_j`, `var_j`, and `P(S_j)`. How different are these values from the original ones you got from K means? briefly comment."
   ]
  },
  {
   "cell_type": "code",
   "execution_count": 16,
   "metadata": {
    "ExecuteTime": {
     "end_time": "2023-10-11T22:31:32.210579400Z",
     "start_time": "2023-10-11T22:31:32.081830700Z"
    }
   },
   "outputs": [
    {
     "name": "stdout",
     "output_type": "stream",
     "text": [
      "P(S_1) = 0.5,  P(S_2) = 0.5\n",
      "mean_1 = 7.742438151084935,  mean_2 = 4.565504164200224\n",
      "var_1 = 0.3178146709755364,  var_2 = 0.2941073082584281\n"
     ]
    }
   ],
   "source": [
    "prob_c = [sum(prob_s0_x) / len(prob_s0_x), sum(prob_s1_x) / len(prob_s1_x)]\n",
    "mean = [sum([x[0] * x[1] for x in zip(prob_s0_x, data)]) / sum(prob_s0_x),\n",
    "        sum([x[0] * x[1] for x in zip(prob_s1_x, data)]) / sum(prob_s1_x)]\n",
    "var = [sum([x[0] * (x[1] - mean[0]) ** 2 for x in zip(prob_s0_x, data)]) / sum(prob_s0_x),\n",
    "       sum([x[0] * (x[1] - mean[1]) ** 2 for x in zip(prob_s1_x, data)]) / sum(prob_s1_x)]\n",
    "\n",
    "print(\"P(S_1) = \" + str(prob_s[0]) + \",  P(S_2) = \" + str(prob_s[1]))\n",
    "print(\"mean_1 = \" + str(mean[0]) + \",  mean_2 = \" + str(mean[1]))\n",
    "print(\"var_1 = \" + str(var[0]) + \",  var_2 = \" + str(var[1]))"
   ]
  },
  {
   "cell_type": "markdown",
   "metadata": {},
   "source": [
    "Cluster 1 has a higher mean and less variant.\n",
    "Cluster 2 has a lower mean value and more variant."
   ]
  },
  {
   "cell_type": "markdown",
   "metadata": {},
   "source": [
    "g) Update `P(S_j | X_i)`. Comment on any differences or lack thereof you observe."
   ]
  },
  {
   "cell_type": "code",
   "execution_count": 17,
   "metadata": {
    "ExecuteTime": {
     "end_time": "2023-10-11T22:31:32.245591400Z",
     "start_time": "2023-10-11T22:31:32.091350100Z"
    }
   },
   "outputs": [
    {
     "name": "stdout",
     "output_type": "stream",
     "text": [
      "point =  7.467672043383739\n",
      "probability of observing that point if it came from cluster 0 =  0.8638350154485336\n",
      "probability of observing that point if it came from cluster 1 =  9.735881685043294e-22\n",
      "point =  4.132983533857102\n",
      "probability of observing that point if it came from cluster 0 =  1.2309828635614297e-28\n",
      "probability of observing that point if it came from cluster 1 =  0.4600168108875495\n",
      "point =  5.348037469330129\n",
      "probability of observing that point if it came from cluster 0 =  5.934206326101518e-13\n",
      "probability of observing that point if it came from cluster 1 =  0.03936775505309083\n",
      "point =  4.390436145995281\n",
      "probability of observing that point if it came from cluster 0 =  8.77596774711475e-25\n",
      "probability of observing that point if it came from cluster 1 =  1.1362228460924606\n",
      "point =  5.037117001411848\n",
      "probability of observing that point if it came from cluster 0 =  2.31503227956207e-16\n",
      "probability of observing that point if it came from cluster 1 =  0.3750116310556975\n",
      "point =  3.918946670418345\n",
      "probability of observing that point if it came from cluster 0 =  4.6775305385399323e-32\n",
      "probability of observing that point if it came from cluster 1 =  0.12105027353056615\n",
      "point =  7.635000050806957\n",
      "probability of observing that point if it came from cluster 0 =  1.1855520396886565\n",
      "probability of observing that point if it came from cluster 1 =  3.0193832362295306e-24\n",
      "point =  6.960422588952641\n",
      "probability of observing that point if it came from cluster 0 =  0.060814081602090723\n",
      "probability of observing that point if it came from cluster 1 =  5.415967758160922e-15\n",
      "point =  8.650724230450386\n",
      "probability of observing that point if it came from cluster 0 =  0.021142297374867534\n",
      "probability of observing that point if it came from cluster 1 =  1.7230759394376895e-42\n",
      "point =  7.998371841866975\n",
      "probability of observing that point if it came from cluster 0 =  0.907647244019632\n",
      "probability of observing that point if it came from cluster 1 =  3.5351672290751385e-30\n",
      "7.467672043383739\n",
      "Probability of coming from S_1 = 1.0\n",
      "Probability of coming from S_2 = 1.1270533737264726e-21\n",
      "\n",
      "4.132983533857102\n",
      "Probability of coming from S_1 = 2.6759519096408456e-28\n",
      "Probability of coming from S_2 = 1.0\n",
      "\n",
      "5.348037469330129\n",
      "Probability of coming from S_1 = 1.5073773747091434e-11\n",
      "Probability of coming from S_2 = 0.9999999999849262\n",
      "\n",
      "4.390436145995281\n",
      "Probability of coming from S_1 = 7.723808562110713e-25\n",
      "Probability of coming from S_2 = 1.0\n",
      "\n",
      "5.037117001411848\n",
      "Probability of coming from S_1 = 6.173227942410766e-16\n",
      "Probability of coming from S_2 = 0.9999999999999994\n",
      "\n",
      "3.918946670418345\n",
      "Probability of coming from S_1 = 3.8641222379054097e-31\n",
      "Probability of coming from S_2 = 1.0\n",
      "\n",
      "7.635000050806957\n",
      "Probability of coming from S_1 = 1.0\n",
      "Probability of coming from S_2 = 2.5468162806437964e-24\n",
      "\n",
      "6.960422588952641\n",
      "Probability of coming from S_1 = 0.9999999999999108\n",
      "Probability of coming from S_2 = 8.905779081886594e-14\n",
      "\n",
      "8.650724230450386\n",
      "Probability of coming from S_1 = 1.0\n",
      "Probability of coming from S_2 = 8.149899270104677e-41\n",
      "\n",
      "7.998371841866975\n",
      "Probability of coming from S_1 = 1.0\n",
      "Probability of coming from S_2 = 3.8948691271503206e-30\n",
      "\n"
     ]
    }
   ],
   "source": [
    "prob_s0_x = []  # P(S_0 | X_i)\n",
    "prob_s1_x = []  # P(S_1 | X_i)\n",
    "prob_x = []  # P(X_i)\n",
    "\n",
    "k = 2\n",
    "\n",
    "for p in data:\n",
    "    print(\"point = \", p)\n",
    "    pdf_i = []\n",
    "\n",
    "    for j in range(k):\n",
    "        # P(X_i | S_j)\n",
    "        pdf_i.append(norm.pdf(p, mean[j], var[j]))\n",
    "        print(\"probability of observing that point if it came from cluster \" + str(j) + \" = \", pdf_i[j])\n",
    "        # P(S_j) already computed\n",
    "        # prob_s[j]\n",
    "\n",
    "    # P(X_i) = P(S_0)P(X_i | S_0) + P(S_1)P(X_i | S_1)\n",
    "    prob_x = prob_s[0] * pdf_i[0] + prob_s[1] * pdf_i[1]\n",
    "\n",
    "    # P(S_j | X_i) = P(X_i | S_j)P(S_j) / P(X_i)\n",
    "    prob_s0_x.append((pdf_i[0] * prob_s[0]) / prob_x)\n",
    "    prob_s1_x.append((pdf_i[1] * prob_s[1]) / prob_x)\n",
    "\n",
    "probs = zip(data, prob_s0_x, prob_s1_x)\n",
    "for p in probs:\n",
    "    print(p[0])\n",
    "    print(\"Probability of coming from S_1 = \" + str(p[1]))\n",
    "    print(\"Probability of coming from S_2 = \" + str(p[2]))\n",
    "    print()"
   ]
  },
  {
   "cell_type": "markdown",
   "metadata": {},
   "source": [
    "For the 6.394 point, it seems to have changed the assignments. Now the probability of coming from s2 is 0.869, and previously it was 0.354. It seems to have changed the preferred assignment."
   ]
  },
  {
   "cell_type": "markdown",
   "metadata": {},
   "source": [
    "h) Use `P(S_j | X_i)` to create a hard assignment - label each point as belonging to a specific cluster (0 or 1)"
   ]
  },
  {
   "cell_type": "code",
   "execution_count": 18,
   "metadata": {
    "ExecuteTime": {
     "end_time": "2023-10-11T22:43:50.169257Z",
     "start_time": "2023-10-11T22:43:50.127264100Z"
    }
   },
   "outputs": [
    {
     "name": "stdout",
     "output_type": "stream",
     "text": [
      "points in cluster 0 : [7.467672043383739, 7.635000050806957, 6.960422588952641, 8.650724230450386, 7.998371841866975]\n",
      "points in cluster 1 : [4.132983533857102, 5.348037469330129, 4.390436145995281, 5.037117001411848, 3.918946670418345]\n"
     ]
    }
   ],
   "source": [
    "assignments = [[], []]\n",
    "for x in zip(data, prob_s0_x):\n",
    "    p = x[1]\n",
    "    d = x[0]\n",
    "    rand = random.random()\n",
    "    if rand <= p:\n",
    "        assignments[0].append(d)\n",
    "    else:\n",
    "        assignments[1].append(d)\n",
    "print(f\"points in cluster 0 : {assignments[0]}\\npoints in cluster 1 : {assignments[1]}\")"
   ]
  }
 ],
 "metadata": {
  "kernelspec": {
   "display_name": "Python 3",
   "language": "python",
   "name": "python3"
  },
  "language_info": {
   "codemirror_mode": {
    "name": "ipython",
    "version": 3
   },
   "file_extension": ".py",
   "mimetype": "text/x-python",
   "name": "python",
   "nbconvert_exporter": "python",
   "pygments_lexer": "ipython3",
   "version": "3.11.5"
  },
  "orig_nbformat": 4,
  "vscode": {
   "interpreter": {
    "hash": "e7370f93d1d0cde622a1f8e1c04877d8463912d04d973331ad4851f04de6915a"
   }
  }
 },
 "nbformat": 4,
 "nbformat_minor": 2
}
